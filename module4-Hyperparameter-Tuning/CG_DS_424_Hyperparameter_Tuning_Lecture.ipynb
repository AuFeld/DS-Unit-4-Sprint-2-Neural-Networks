{
  "nbformat": 4,
  "nbformat_minor": 0,
  "metadata": {
    "kernelspec": {
      "display_name": "U4-S2-NNF-DS10",
      "language": "python",
      "name": "u4-s2-nnf-ds10"
    },
    "language_info": {
      "codemirror_mode": {
        "name": "ipython",
        "version": 3
      },
      "file_extension": ".py",
      "mimetype": "text/x-python",
      "name": "python",
      "nbconvert_exporter": "python",
      "pygments_lexer": "ipython3",
      "version": "3.7.6"
    },
    "colab": {
      "name": "CG_DS_424_Hyperparameter_Tuning_Lecture.ipynb",
      "provenance": [],
      "include_colab_link": true
    },
    "accelerator": "TPU"
  },
  "cells": [
    {
      "cell_type": "markdown",
      "metadata": {
        "id": "view-in-github",
        "colab_type": "text"
      },
      "source": [
        "<a href=\"https://colab.research.google.com/github/AuFeld/DS-Unit-4-Sprint-2-Neural-Networks/blob/master/module4-Hyperparameter-Tuning/CG_DS_424_Hyperparameter_Tuning_Lecture.ipynb\" target=\"_parent\"><img src=\"https://colab.research.google.com/assets/colab-badge.svg\" alt=\"Open In Colab\"/></a>"
      ]
    },
    {
      "cell_type": "markdown",
      "metadata": {
        "colab_type": "text",
        "id": "41TS0Sa0rDNx"
      },
      "source": [
        "Lambda School Data Science\n",
        "\n",
        "*Unit 4, Sprint 2, Module 4*\n",
        "\n",
        "---"
      ]
    },
    {
      "cell_type": "markdown",
      "metadata": {
        "colab_type": "text",
        "id": "K2qCNkMQhFg1"
      },
      "source": [
        "# Neural Networks Hyperparameter Tuning (Prepare)"
      ]
    },
    {
      "cell_type": "markdown",
      "metadata": {
        "colab_type": "text",
        "id": "5nM1guC0hFg8"
      },
      "source": [
        "## Learning Objectives\n",
        "* <a href=\"#p1\">Part 1</a>: Describe the major hyperparemeters to tune\n",
        "* <a href=\"#p2\">Part 2</a>: Implement an experiment tracking framework"
      ]
    },
    {
      "cell_type": "code",
      "metadata": {
        "id": "ktJQgNW9hJOH",
        "colab_type": "code",
        "colab": {}
      },
      "source": [
        "! pip install --upgrade tensorflow"
      ],
      "execution_count": 0,
      "outputs": []
    },
    {
      "cell_type": "code",
      "metadata": {
        "id": "YOaLCJT5hFhC",
        "colab_type": "code",
        "colab": {}
      },
      "source": [
        "wandb_group = \"ds8\"\n",
        "wandb_project = \"ds11_inclass\""
      ],
      "execution_count": 0,
      "outputs": []
    },
    {
      "cell_type": "markdown",
      "metadata": {
        "id": "I5Su_MVdhFhY",
        "colab_type": "text"
      },
      "source": [
        "# Hyperparameter Options (Learn)\n",
        "<a id=\"p1\"></a>"
      ]
    },
    {
      "cell_type": "markdown",
      "metadata": {
        "id": "bRVlrai6hFhc",
        "colab_type": "text"
      },
      "source": [
        "## Overview\n",
        "\n",
        "Hyperparameter tuning is much more important with neural networks than it has been with any other models that we have considered up to this point. Other supervised learning models might have a couple of parameters, but neural networks can have dozens. These can substantially affect the accuracy of our models and although it can be a time consuming process is a necessary step when working with neural networks.\n",
        "​\n",
        "Hyperparameter tuning comes with a challenge. How can we compare models specified with different hyperparameters if our model's final error metric can vary somewhat erratically? How do we avoid just getting unlucky and selecting the wrong hyperparameter? This is a problem that to a certain degree we just have to live with as we test and test again. However, we can minimize it somewhat by pairing our experiments with Cross Validation to reduce the variance of our final accuracy values."
      ]
    },
    {
      "cell_type": "markdown",
      "metadata": {
        "colab_type": "text",
        "id": "0s0o2pqBs88q"
      },
      "source": [
        "### Load Boston Housing Data"
      ]
    },
    {
      "cell_type": "code",
      "metadata": {
        "id": "qtMd9QTqhFhl",
        "colab_type": "code",
        "colab": {}
      },
      "source": [
        "from tensorflow.keras.datasets import boston_housing\n",
        "\n",
        "(x_train, y_train), (x_test, y_test) = boston_housing.load_data()"
      ],
      "execution_count": 0,
      "outputs": []
    },
    {
      "cell_type": "markdown",
      "metadata": {
        "colab_type": "text",
        "id": "Pm7zow5IvaTt"
      },
      "source": [
        "### Normalizing Input Data\n",
        "\n",
        "It's not 100% necessary to normalize/scale your input data before feeding it to a neural network, the network can learn the appropriate weights to deal with data of as long as it is numerically represented,  but it is recommended as it can help **make training faster** and **reduces the chances that gradient descent might get stuck in a local optimum**.\n",
        "\n",
        "<https://stackoverflow.com/questions/4674623/why-do-we-have-to-normalize-the-input-for-an-artificial-neural-network>"
      ]
    },
    {
      "cell_type": "code",
      "metadata": {
        "id": "Xni42MxhhFh2",
        "colab_type": "code",
        "colab": {
          "base_uri": "https://localhost:8080/",
          "height": 538
        },
        "outputId": "f33ba048-3119-4eb9-b481-69ab06831a62"
      },
      "source": [
        "from sklearn.preprocessing import StandardScaler\n",
        "\n",
        "scaler = StandardScaler()\n",
        "\n",
        "x_train = scaler.fit_transform(x_train)\n",
        "x_test = scaler.transform(x_test)\n",
        "print(x_train[:10])"
      ],
      "execution_count": 8,
      "outputs": [
        {
          "output_type": "stream",
          "text": [
            "[[-0.27224633 -0.48361547 -0.43576161 -0.25683275 -0.1652266  -0.1764426\n",
            "   0.81306188  0.1166983  -0.62624905 -0.59517003  1.14850044  0.44807713\n",
            "   0.8252202 ]\n",
            " [-0.40342651  2.99178419 -1.33391162 -0.25683275 -1.21518188  1.89434613\n",
            "  -1.91036058  1.24758524 -0.85646254 -0.34843254 -1.71818909  0.43190599\n",
            "  -1.32920239]\n",
            " [ 0.1249402  -0.48361547  1.0283258  -0.25683275  0.62864202 -1.82968811\n",
            "   1.11048828 -1.18743907  1.67588577  1.5652875   0.78447637  0.22061726\n",
            "  -1.30850006]\n",
            " [-0.40149354 -0.48361547 -0.86940196 -0.25683275 -0.3615597  -0.3245576\n",
            "  -1.23667187  1.10717989 -0.51114231 -1.094663    0.78447637  0.44807713\n",
            "  -0.65292624]\n",
            " [-0.0056343  -0.48361547  1.0283258  -0.25683275  1.32861221  0.15364225\n",
            "   0.69480801 -0.57857203  1.67588577  1.5652875   0.78447637  0.3898823\n",
            "   0.26349695]\n",
            " [-0.37502238 -0.48361547 -0.54747912 -0.25683275 -0.54935658 -0.78865126\n",
            "   0.18954148  0.48371503 -0.51114231 -0.71552978  0.51145832  0.38669063\n",
            "  -0.13812828]\n",
            " [ 0.58963463 -0.48361547  1.0283258  -0.25683275  1.21764133 -1.03127774\n",
            "   1.11048828 -1.06518235  1.67588577  1.5652875   0.78447637  0.44807713\n",
            "   1.49873604]\n",
            " [ 0.0381708  -0.48361547  1.24588095 -0.25683275  2.67733525 -1.12719983\n",
            "   1.11048828 -1.14833073 -0.51114231 -0.01744323 -1.71818909  0.44807713\n",
            "   1.88793986]\n",
            " [-0.17228416 -0.48361547  1.24588095 -0.25683275  2.67733525 -0.90150078\n",
            "   1.11048828 -1.09664657 -0.51114231 -0.01744323 -1.71818909 -1.97365769\n",
            "   0.53952803]\n",
            " [-0.22932104 -0.48361547  1.58544339 -0.25683275  0.56888847 -1.76056777\n",
            "   1.11048828 -1.13471925 -0.62624905  0.18716835  1.23950646  0.44807713\n",
            "   2.99068404]]\n"
          ],
          "name": "stdout"
        }
      ]
    },
    {
      "cell_type": "markdown",
      "metadata": {
        "colab_type": "text",
        "id": "l6hgCWbir90R"
      },
      "source": [
        "### Model Validation using an automatic verification Dataset\n",
        "\n",
        "Instead of doing seperate train test split class, Keras has a really nice feature that you can set the validation.data argument when fitting your model and Keras will take that portion of your test data and use it as a validation dataset. "
      ]
    },
    {
      "cell_type": "code",
      "metadata": {
        "colab_type": "code",
        "id": "GMXVfmzXp1Oo",
        "outputId": "1b0a28b9-7058-48c9-845e-78f40c3c89cb",
        "colab": {
          "base_uri": "https://localhost:8080/",
          "height": 1000
        }
      },
      "source": [
        "from tensorflow import keras\n",
        "from tensorflow.keras.models import Sequential\n",
        "from tensorflow.keras.layers import Dense\n",
        "\n",
        "# Important Hyperparameters\n",
        "inputs = x_train.shape[1]\n",
        "epochs = 75\n",
        "batch_size = 10\n",
        "\n",
        "\n",
        "# Create Model\n",
        "model = Sequential()\n",
        "model.add(Dense(64, activation='relu', input_shape=(inputs,)))\n",
        "model.add(Dense(64, activation='relu'))\n",
        "model.add(Dense(1))\n",
        "\n",
        "# Compile Model\n",
        "model.compile(optimizer='adam', loss='mse', metrics=['mse', 'mae'])\n",
        "\n",
        "# Fit Model\n",
        "model.fit(x_train, y_train, \n",
        "          validation_data=(x_test,y_test), \n",
        "          epochs=epochs, \n",
        "          batch_size=batch_size\n",
        "         )"
      ],
      "execution_count": 9,
      "outputs": [
        {
          "output_type": "stream",
          "text": [
            "Train on 404 samples, validate on 102 samples\n",
            "Epoch 1/75\n",
            "404/404 [==============================] - 0s 1ms/sample - loss: 541.8324 - mse: 541.8325 - mae: 21.3829 - val_loss: 485.6729 - val_mse: 485.6729 - val_mae: 20.1631\n",
            "Epoch 2/75\n",
            "404/404 [==============================] - 0s 242us/sample - loss: 337.9436 - mse: 337.9437 - mae: 16.2186 - val_loss: 192.3064 - val_mse: 192.3064 - val_mae: 11.8503\n",
            "Epoch 3/75\n",
            "404/404 [==============================] - 0s 258us/sample - loss: 97.1343 - mse: 97.1342 - mae: 7.7191 - val_loss: 50.4626 - val_mse: 50.4626 - val_mae: 5.5155\n",
            "Epoch 4/75\n",
            "404/404 [==============================] - 0s 236us/sample - loss: 37.0799 - mse: 37.0799 - mae: 4.5185 - val_loss: 31.1678 - val_mse: 31.1678 - val_mae: 4.3198\n",
            "Epoch 5/75\n",
            "404/404 [==============================] - 0s 301us/sample - loss: 24.9066 - mse: 24.9066 - mae: 3.5652 - val_loss: 26.8224 - val_mse: 26.8224 - val_mae: 3.9452\n",
            "Epoch 6/75\n",
            "404/404 [==============================] - 0s 276us/sample - loss: 20.7149 - mse: 20.7149 - mae: 3.2266 - val_loss: 25.8912 - val_mse: 25.8912 - val_mae: 3.8365\n",
            "Epoch 7/75\n",
            "404/404 [==============================] - 0s 237us/sample - loss: 18.3411 - mse: 18.3411 - mae: 3.0569 - val_loss: 24.9288 - val_mse: 24.9288 - val_mae: 3.6688\n",
            "Epoch 8/75\n",
            "404/404 [==============================] - 0s 244us/sample - loss: 16.8665 - mse: 16.8665 - mae: 2.9253 - val_loss: 23.9828 - val_mse: 23.9828 - val_mae: 3.5749\n",
            "Epoch 9/75\n",
            "404/404 [==============================] - 0s 246us/sample - loss: 15.5154 - mse: 15.5154 - mae: 2.8032 - val_loss: 24.1231 - val_mse: 24.1231 - val_mae: 3.5229\n",
            "Epoch 10/75\n",
            "404/404 [==============================] - 0s 252us/sample - loss: 14.5641 - mse: 14.5641 - mae: 2.7347 - val_loss: 24.9435 - val_mse: 24.9435 - val_mae: 3.5381\n",
            "Epoch 11/75\n",
            "404/404 [==============================] - 0s 239us/sample - loss: 13.8564 - mse: 13.8564 - mae: 2.6190 - val_loss: 24.7558 - val_mse: 24.7558 - val_mae: 3.4936\n",
            "Epoch 12/75\n",
            "404/404 [==============================] - 0s 251us/sample - loss: 13.7703 - mse: 13.7703 - mae: 2.6403 - val_loss: 24.0167 - val_mse: 24.0167 - val_mae: 3.3849\n",
            "Epoch 13/75\n",
            "404/404 [==============================] - 0s 267us/sample - loss: 12.5650 - mse: 12.5650 - mae: 2.5433 - val_loss: 25.2941 - val_mse: 25.2941 - val_mae: 3.4156\n",
            "Epoch 14/75\n",
            "404/404 [==============================] - 0s 253us/sample - loss: 11.9733 - mse: 11.9733 - mae: 2.4721 - val_loss: 24.6928 - val_mse: 24.6928 - val_mae: 3.3325\n",
            "Epoch 15/75\n",
            "404/404 [==============================] - 0s 233us/sample - loss: 11.6946 - mse: 11.6946 - mae: 2.4402 - val_loss: 25.6419 - val_mse: 25.6419 - val_mae: 3.3919\n",
            "Epoch 16/75\n",
            "404/404 [==============================] - 0s 266us/sample - loss: 11.1705 - mse: 11.1705 - mae: 2.3989 - val_loss: 24.4230 - val_mse: 24.4230 - val_mae: 3.2824\n",
            "Epoch 17/75\n",
            "404/404 [==============================] - 0s 243us/sample - loss: 10.8324 - mse: 10.8324 - mae: 2.3523 - val_loss: 24.9105 - val_mse: 24.9105 - val_mae: 3.2929\n",
            "Epoch 18/75\n",
            "404/404 [==============================] - 0s 275us/sample - loss: 10.5405 - mse: 10.5405 - mae: 2.3265 - val_loss: 24.2486 - val_mse: 24.2486 - val_mae: 3.2223\n",
            "Epoch 19/75\n",
            "404/404 [==============================] - 0s 256us/sample - loss: 10.4172 - mse: 10.4172 - mae: 2.3029 - val_loss: 24.7927 - val_mse: 24.7927 - val_mae: 3.2656\n",
            "Epoch 20/75\n",
            "404/404 [==============================] - 0s 243us/sample - loss: 10.2542 - mse: 10.2542 - mae: 2.2545 - val_loss: 23.9299 - val_mse: 23.9299 - val_mae: 3.1581\n",
            "Epoch 21/75\n",
            "404/404 [==============================] - 0s 258us/sample - loss: 10.0965 - mse: 10.0965 - mae: 2.3128 - val_loss: 23.4200 - val_mse: 23.4200 - val_mae: 3.0748\n",
            "Epoch 22/75\n",
            "404/404 [==============================] - 0s 243us/sample - loss: 9.8135 - mse: 9.8135 - mae: 2.2415 - val_loss: 23.5840 - val_mse: 23.5840 - val_mae: 3.1239\n",
            "Epoch 23/75\n",
            "404/404 [==============================] - 0s 250us/sample - loss: 9.8411 - mse: 9.8411 - mae: 2.2290 - val_loss: 23.9821 - val_mse: 23.9821 - val_mae: 3.1601\n",
            "Epoch 24/75\n",
            "404/404 [==============================] - 0s 258us/sample - loss: 9.4986 - mse: 9.4986 - mae: 2.1963 - val_loss: 22.8526 - val_mse: 22.8526 - val_mae: 3.0083\n",
            "Epoch 25/75\n",
            "404/404 [==============================] - 0s 220us/sample - loss: 9.3844 - mse: 9.3844 - mae: 2.1848 - val_loss: 22.5456 - val_mse: 22.5456 - val_mae: 3.0160\n",
            "Epoch 26/75\n",
            "404/404 [==============================] - 0s 231us/sample - loss: 9.0809 - mse: 9.0809 - mae: 2.1514 - val_loss: 22.5281 - val_mse: 22.5281 - val_mae: 2.9925\n",
            "Epoch 27/75\n",
            "404/404 [==============================] - 0s 224us/sample - loss: 8.8777 - mse: 8.8777 - mae: 2.1266 - val_loss: 24.9622 - val_mse: 24.9622 - val_mae: 3.1731\n",
            "Epoch 28/75\n",
            "404/404 [==============================] - 0s 243us/sample - loss: 9.0133 - mse: 9.0133 - mae: 2.1177 - val_loss: 22.8715 - val_mse: 22.8715 - val_mae: 3.0047\n",
            "Epoch 29/75\n",
            "404/404 [==============================] - 0s 252us/sample - loss: 8.7530 - mse: 8.7530 - mae: 2.1157 - val_loss: 23.9856 - val_mse: 23.9856 - val_mae: 3.0537\n",
            "Epoch 30/75\n",
            "404/404 [==============================] - 0s 235us/sample - loss: 8.7708 - mse: 8.7708 - mae: 2.1127 - val_loss: 21.7905 - val_mse: 21.7905 - val_mae: 2.9938\n",
            "Epoch 31/75\n",
            "404/404 [==============================] - 0s 266us/sample - loss: 8.8828 - mse: 8.8828 - mae: 2.1117 - val_loss: 21.2782 - val_mse: 21.2782 - val_mae: 2.8857\n",
            "Epoch 32/75\n",
            "404/404 [==============================] - 0s 275us/sample - loss: 8.3124 - mse: 8.3124 - mae: 2.0453 - val_loss: 23.4299 - val_mse: 23.4299 - val_mae: 2.9922\n",
            "Epoch 33/75\n",
            "404/404 [==============================] - 0s 289us/sample - loss: 8.3773 - mse: 8.3773 - mae: 2.0436 - val_loss: 22.2304 - val_mse: 22.2304 - val_mae: 2.9265\n",
            "Epoch 34/75\n",
            "404/404 [==============================] - 0s 247us/sample - loss: 8.1705 - mse: 8.1705 - mae: 2.0685 - val_loss: 21.0021 - val_mse: 21.0021 - val_mae: 2.8960\n",
            "Epoch 35/75\n",
            "404/404 [==============================] - 0s 235us/sample - loss: 8.2046 - mse: 8.2046 - mae: 2.0713 - val_loss: 20.7383 - val_mse: 20.7383 - val_mae: 2.8472\n",
            "Epoch 36/75\n",
            "404/404 [==============================] - 0s 229us/sample - loss: 7.9256 - mse: 7.9256 - mae: 1.9557 - val_loss: 21.9228 - val_mse: 21.9228 - val_mae: 2.8877\n",
            "Epoch 37/75\n",
            "404/404 [==============================] - 0s 228us/sample - loss: 7.8372 - mse: 7.8372 - mae: 1.9985 - val_loss: 21.3776 - val_mse: 21.3776 - val_mae: 2.8205\n",
            "Epoch 38/75\n",
            "404/404 [==============================] - 0s 229us/sample - loss: 7.6035 - mse: 7.6035 - mae: 1.9649 - val_loss: 21.3571 - val_mse: 21.3571 - val_mae: 2.9043\n",
            "Epoch 39/75\n",
            "404/404 [==============================] - 0s 256us/sample - loss: 7.8003 - mse: 7.8003 - mae: 1.9767 - val_loss: 20.7707 - val_mse: 20.7707 - val_mae: 2.8028\n",
            "Epoch 40/75\n",
            "404/404 [==============================] - 0s 248us/sample - loss: 7.7030 - mse: 7.7030 - mae: 1.9589 - val_loss: 20.4339 - val_mse: 20.4339 - val_mae: 2.7617\n",
            "Epoch 41/75\n",
            "404/404 [==============================] - 0s 249us/sample - loss: 7.5227 - mse: 7.5227 - mae: 1.9408 - val_loss: 22.0684 - val_mse: 22.0684 - val_mae: 2.9709\n",
            "Epoch 42/75\n",
            "404/404 [==============================] - 0s 261us/sample - loss: 7.5536 - mse: 7.5536 - mae: 1.9635 - val_loss: 20.8419 - val_mse: 20.8419 - val_mae: 2.7957\n",
            "Epoch 43/75\n",
            "404/404 [==============================] - 0s 240us/sample - loss: 7.3555 - mse: 7.3555 - mae: 1.9135 - val_loss: 20.0443 - val_mse: 20.0443 - val_mae: 2.7383\n",
            "Epoch 44/75\n",
            "404/404 [==============================] - 0s 230us/sample - loss: 7.4339 - mse: 7.4339 - mae: 1.9635 - val_loss: 20.1000 - val_mse: 20.1000 - val_mae: 2.7507\n",
            "Epoch 45/75\n",
            "404/404 [==============================] - 0s 233us/sample - loss: 7.0566 - mse: 7.0566 - mae: 1.8805 - val_loss: 20.6623 - val_mse: 20.6623 - val_mae: 2.7918\n",
            "Epoch 46/75\n",
            "404/404 [==============================] - 0s 260us/sample - loss: 7.0286 - mse: 7.0286 - mae: 1.8948 - val_loss: 20.8889 - val_mse: 20.8889 - val_mae: 2.8435\n",
            "Epoch 47/75\n",
            "404/404 [==============================] - 0s 220us/sample - loss: 7.0931 - mse: 7.0932 - mae: 1.8927 - val_loss: 19.8595 - val_mse: 19.8595 - val_mae: 2.7542\n",
            "Epoch 48/75\n",
            "404/404 [==============================] - 0s 235us/sample - loss: 7.0569 - mse: 7.0569 - mae: 1.9038 - val_loss: 20.5532 - val_mse: 20.5532 - val_mae: 2.8582\n",
            "Epoch 49/75\n",
            "404/404 [==============================] - 0s 250us/sample - loss: 7.1386 - mse: 7.1386 - mae: 1.9162 - val_loss: 20.9904 - val_mse: 20.9904 - val_mae: 2.7755\n",
            "Epoch 50/75\n",
            "404/404 [==============================] - 0s 247us/sample - loss: 6.8013 - mse: 6.8013 - mae: 1.8335 - val_loss: 20.1753 - val_mse: 20.1753 - val_mae: 2.7830\n",
            "Epoch 51/75\n",
            "404/404 [==============================] - 0s 235us/sample - loss: 6.6947 - mse: 6.6947 - mae: 1.8614 - val_loss: 20.7077 - val_mse: 20.7077 - val_mae: 2.8591\n",
            "Epoch 52/75\n",
            "404/404 [==============================] - 0s 245us/sample - loss: 6.7618 - mse: 6.7618 - mae: 1.8469 - val_loss: 19.2154 - val_mse: 19.2154 - val_mae: 2.7204\n",
            "Epoch 53/75\n",
            "404/404 [==============================] - 0s 238us/sample - loss: 6.5493 - mse: 6.5493 - mae: 1.8220 - val_loss: 18.6334 - val_mse: 18.6334 - val_mae: 2.6400\n",
            "Epoch 54/75\n",
            "404/404 [==============================] - 0s 250us/sample - loss: 6.5912 - mse: 6.5912 - mae: 1.8234 - val_loss: 18.8321 - val_mse: 18.8321 - val_mae: 2.6497\n",
            "Epoch 55/75\n",
            "404/404 [==============================] - 0s 247us/sample - loss: 6.2425 - mse: 6.2425 - mae: 1.7745 - val_loss: 20.0505 - val_mse: 20.0505 - val_mae: 2.8199\n",
            "Epoch 56/75\n",
            "404/404 [==============================] - 0s 271us/sample - loss: 6.4386 - mse: 6.4386 - mae: 1.8277 - val_loss: 17.7565 - val_mse: 17.7565 - val_mae: 2.6150\n",
            "Epoch 57/75\n",
            "404/404 [==============================] - 0s 258us/sample - loss: 6.2994 - mse: 6.2994 - mae: 1.7975 - val_loss: 19.6953 - val_mse: 19.6953 - val_mae: 2.7436\n",
            "Epoch 58/75\n",
            "404/404 [==============================] - 0s 252us/sample - loss: 6.4331 - mse: 6.4331 - mae: 1.7969 - val_loss: 20.0704 - val_mse: 20.0704 - val_mae: 2.7680\n",
            "Epoch 59/75\n",
            "404/404 [==============================] - 0s 254us/sample - loss: 6.1101 - mse: 6.1101 - mae: 1.7562 - val_loss: 18.4023 - val_mse: 18.4023 - val_mae: 2.6542\n",
            "Epoch 60/75\n",
            "404/404 [==============================] - 0s 259us/sample - loss: 6.0538 - mse: 6.0538 - mae: 1.7483 - val_loss: 18.5910 - val_mse: 18.5910 - val_mae: 2.6410\n",
            "Epoch 61/75\n",
            "404/404 [==============================] - 0s 274us/sample - loss: 6.1893 - mse: 6.1893 - mae: 1.7705 - val_loss: 18.8037 - val_mse: 18.8037 - val_mae: 2.6860\n",
            "Epoch 62/75\n",
            "404/404 [==============================] - 0s 239us/sample - loss: 5.9034 - mse: 5.9034 - mae: 1.7110 - val_loss: 18.4795 - val_mse: 18.4795 - val_mae: 2.5984\n",
            "Epoch 63/75\n",
            "404/404 [==============================] - 0s 237us/sample - loss: 6.1724 - mse: 6.1724 - mae: 1.7853 - val_loss: 17.6090 - val_mse: 17.6090 - val_mae: 2.5939\n",
            "Epoch 64/75\n",
            "404/404 [==============================] - 0s 255us/sample - loss: 5.7699 - mse: 5.7699 - mae: 1.7038 - val_loss: 17.0613 - val_mse: 17.0613 - val_mae: 2.5864\n",
            "Epoch 65/75\n",
            "404/404 [==============================] - 0s 245us/sample - loss: 5.7766 - mse: 5.7766 - mae: 1.7227 - val_loss: 17.8446 - val_mse: 17.8446 - val_mae: 2.6357\n",
            "Epoch 66/75\n",
            "404/404 [==============================] - 0s 229us/sample - loss: 5.5584 - mse: 5.5584 - mae: 1.6653 - val_loss: 18.0868 - val_mse: 18.0868 - val_mae: 2.6050\n",
            "Epoch 67/75\n",
            "404/404 [==============================] - 0s 259us/sample - loss: 5.6004 - mse: 5.6004 - mae: 1.6686 - val_loss: 18.8548 - val_mse: 18.8548 - val_mae: 2.7624\n",
            "Epoch 68/75\n",
            "404/404 [==============================] - 0s 228us/sample - loss: 5.4874 - mse: 5.4874 - mae: 1.6609 - val_loss: 18.0731 - val_mse: 18.0731 - val_mae: 2.6575\n",
            "Epoch 69/75\n",
            "404/404 [==============================] - 0s 261us/sample - loss: 5.4573 - mse: 5.4573 - mae: 1.6386 - val_loss: 19.4265 - val_mse: 19.4265 - val_mae: 2.7257\n",
            "Epoch 70/75\n",
            "404/404 [==============================] - 0s 249us/sample - loss: 5.5476 - mse: 5.5476 - mae: 1.6840 - val_loss: 19.2599 - val_mse: 19.2599 - val_mae: 2.7552\n",
            "Epoch 71/75\n",
            "404/404 [==============================] - 0s 258us/sample - loss: 5.4148 - mse: 5.4148 - mae: 1.6636 - val_loss: 18.1225 - val_mse: 18.1225 - val_mae: 2.7204\n",
            "Epoch 72/75\n",
            "404/404 [==============================] - 0s 227us/sample - loss: 5.3514 - mse: 5.3514 - mae: 1.6482 - val_loss: 17.1573 - val_mse: 17.1573 - val_mae: 2.5732\n",
            "Epoch 73/75\n",
            "404/404 [==============================] - 0s 235us/sample - loss: 5.1702 - mse: 5.1702 - mae: 1.5932 - val_loss: 16.8763 - val_mse: 16.8763 - val_mae: 2.5593\n",
            "Epoch 74/75\n",
            "404/404 [==============================] - 0s 261us/sample - loss: 5.1780 - mse: 5.1780 - mae: 1.6296 - val_loss: 16.7593 - val_mse: 16.7593 - val_mae: 2.5719\n",
            "Epoch 75/75\n",
            "404/404 [==============================] - 0s 241us/sample - loss: 5.2297 - mse: 5.2297 - mae: 1.6600 - val_loss: 17.0882 - val_mse: 17.0882 - val_mae: 2.5589\n"
          ],
          "name": "stdout"
        },
        {
          "output_type": "execute_result",
          "data": {
            "text/plain": [
              "<tensorflow.python.keras.callbacks.History at 0x7f77340ad518>"
            ]
          },
          "metadata": {
            "tags": []
          },
          "execution_count": 9
        }
      ]
    },
    {
      "cell_type": "markdown",
      "metadata": {
        "colab_type": "text",
        "id": "sYJ8t_ezHP4W"
      },
      "source": [
        "### Hyperparameter Tuning Approaches:\n",
        "\n",
        "#### 1) Babysitting AKA \"Grad Student Descent\".\n",
        "\n",
        "If you fiddled with any hyperparameters yesterday, this is basically what you did. This approach is 100% manual and is pretty common among researchers where finding that 1 exact specification that jumps your model to a level of accuracy never seen before is the difference between publishing and not publishing a paper. Of course the professors don't do this themselves, that's grunt work. This is also known as the fiddle with hyperparameters until you run out of time method.\n",
        "\n",
        "#### 2) Grid Search\n",
        "\n",
        "Grid Search is the Grad Student galaxy brain realization of: why don't I just specify all the experiments I want to run and let the computer try every possible combination of them while I go and grab lunch. This has a specific downside in that if I specify 5 hyperparameters with 5 options each then I've just created 5^5 combinations of hyperparameters to check. Which means that I have to train 3125 different versions of my model Then if I use 5-fold Cross Validation on that then my model has to run 15,525 times. This is the brute-force method of hyperparameter tuning, but it can be very profitable if done wisely. \n",
        "\n",
        "When using Grid Search here's what I suggest: don't use it to test combinations of different hyperparameters, only use it to test different specifications of **a single** hyperparameter. It's rare that combinations between different hyperparameters lead to big performance gains. You'll get 90-95% of the way there if you just Grid Search one parameter and take the best result, then retain that best result while you test another, and then retain the best specification from that while you train another. This at least makes the situation much more manageable and leads to pretty good results. \n",
        "\n",
        "#### 3) Random Search\n",
        "\n",
        "Do Grid Search for a couple of hours and you'll say to yourself - \"There's got to be a better way.\" Enter Random Search. For Random search you specify a hyperparameter space and it picks specifications from that randomly, tries them out, gives you the best results and says - That's going to have to be good enough, go home and spend time with your family. \n",
        "\n",
        "Grid Search treats every parameter as if it was equally important, but this just isn't the case, some are known to move the needle a lot more than others (we'll talk about that in a minute). Random Search allows searching to be specified along the most important parameter and experiments less along the dimensions of less important hyperparameters. The downside of Random search is that it won't find the absolute best hyperparameters, but it is much less costly to perform than Grid Search. \n",
        "\n",
        "#### 4) Bayesian Methods\n",
        "\n",
        "One thing that can make more manual methods like babysitting and gridsearch effective is that as the experimenter sees results he can then make updates to his future searches taking into account the results of past specifications. If only we could hyperparameter tune our hyperparameter tuning. Well, we kind of can. Enter Bayesian Optimization. Neural Networks are like an optimization problem within an optimization problem, and Bayesian Optimization is a search strategy that tries to take into account the results of past searches in order to improve future ones. This is the most advanced method but can be a little bit tricky to implement, but there are some early steps with `hyperas` which is Bayesian optimization wrapper for `keras`. "
      ]
    },
    {
      "cell_type": "markdown",
      "metadata": {
        "colab_type": "text",
        "id": "HfQ7D043OMMn"
      },
      "source": [
        "## What Hyperparameters are there to test?\n",
        "\n",
        "- batch_size\n",
        "- optimization algorithms\n",
        "- learning rate\n",
        "- momentum\n",
        "- activation functions\n",
        "- dropout regularization\n",
        "- number of neurons in the hidden layer\n",
        "\n",
        "There are more, but these are the most important."
      ]
    },
    {
      "cell_type": "markdown",
      "metadata": {
        "id": "07KbofnqhFiW",
        "colab_type": "text"
      },
      "source": [
        "## Follow Along"
      ]
    },
    {
      "cell_type": "markdown",
      "metadata": {
        "colab_type": "text",
        "id": "Mri5-kXzVKAa"
      },
      "source": [
        "## Batch Size\n",
        "\n",
        "Batch size determines how many observations the model is shown before it calculates loss/error and updates the model weights via gradient descent. You're looking for a sweet spot here where you're showing it enough observations that you have enough information to updates the weights, but not such a large batch size that you don't get a lot of weight update iterations performed in a given epoch. Feed-forward Neural Networks aren't as sensitive to bach_size as other networks, but it is still an important hyperparameter to tune. Smaller batch sizes will also take longer to train. "
      ]
    },
    {
      "cell_type": "code",
      "metadata": {
        "colab_type": "code",
        "id": "2smXfriNAGn7",
        "outputId": "da0a1bf1-33bb-44a4-a262-ee32c9ae618c",
        "colab": {
          "base_uri": "https://localhost:8080/",
          "height": 139
        }
      },
      "source": [
        "import numpy\n",
        "import pandas as pd\n",
        "from sklearn.model_selection import GridSearchCV\n",
        "from tensorflow.keras.models import Sequential\n",
        "from tensorflow.keras.layers import Dense, Layer, LeakyReLU\n",
        "from tensorflow.keras.wrappers.scikit_learn import KerasClassifier\n",
        "\n",
        "# fix random seed for reproducibility\n",
        "seed = 7\n",
        "numpy.random.seed(seed)\n",
        "\n",
        "# load dataset\n",
        "url =\"https://raw.githubusercontent.com/jbrownlee/Datasets/master/pima-indians-diabetes.data.csv\"\n",
        "\n",
        "dataset = pd.read_csv(url, header=None).values\n",
        "\n",
        "# split into input (X) and output (Y) variables\n",
        "X = dataset[:,0:8]\n",
        "Y = dataset[:,8]\n",
        "\n",
        "# Function to create model, required for KerasClassifier\n",
        "def create_model():\n",
        "    # create model\n",
        "    model = Sequential()\n",
        "    model.add(Dense(12, input_dim=8, activation='relu'))\n",
        "    model.add(Dense(1, activation='sigmoid'))\n",
        "    # Compile model\n",
        "    model.compile(loss='binary_crossentropy', optimizer='adam', metrics=['accuracy'])\n",
        "    return model\n",
        "\n",
        "# create model\n",
        "model = KerasClassifier(build_fn=create_model, verbose=0)\n",
        "\n",
        "# define the grid search parameters\n",
        "# batch_size = [10, 20, 40, 60, 80, 100]\n",
        "# param_grid = dict(batch_size=batch_size, epochs=epochs)\n",
        "\n",
        "# define the grid search parameters\n",
        "param_grid = {'batch_size': [10, 20, 40, 60, 80, 100],\n",
        "              'epochs': [20]}\n",
        "\n",
        "# Create Grid Search\n",
        "grid = GridSearchCV(estimator=model, param_grid=param_grid, n_jobs=1)\n",
        "grid_result = grid.fit(X, Y)\n",
        "\n",
        "# Report Results\n",
        "print(f\"Best: {grid_result.best_score_} using {grid_result.best_params_}\")\n",
        "means = grid_result.cv_results_['mean_test_score']\n",
        "stds = grid_result.cv_results_['std_test_score']\n",
        "params = grid_result.cv_results_['params']\n",
        "for mean, stdev, param in zip(means, stds, params):\n",
        "    print(f\"Means: {mean}, Stdev: {stdev} with: {param}\") "
      ],
      "execution_count": 24,
      "outputs": [
        {
          "output_type": "stream",
          "text": [
            "Best: 0.6614803552627564 using {'batch_size': 20, 'epochs': 20}\n",
            "Means: 0.6391987204551697, Stdev: 0.050838544172648 with: {'batch_size': 10, 'epochs': 20}\n",
            "Means: 0.6614803552627564, Stdev: 0.04110081027354395 with: {'batch_size': 20, 'epochs': 20}\n",
            "Means: 0.5833800315856934, Stdev: 0.05016002954947292 with: {'batch_size': 40, 'epochs': 20}\n",
            "Means: 0.6145743250846862, Stdev: 0.03825189365582912 with: {'batch_size': 60, 'epochs': 20}\n",
            "Means: 0.5467956960201263, Stdev: 0.07211103055837682 with: {'batch_size': 80, 'epochs': 20}\n",
            "Means: 0.5988625764846802, Stdev: 0.03668049809828045 with: {'batch_size': 100, 'epochs': 20}\n"
          ],
          "name": "stdout"
        }
      ]
    },
    {
      "cell_type": "code",
      "metadata": {
        "id": "3oYW-ix0v5B-",
        "colab_type": "code",
        "colab": {}
      },
      "source": [
        "# softmax = multiclass\n",
        "\n",
        "# wrapper from keras takes our model and wraps it to work with sklearn API\n",
        "\n",
        "# when using grid search, don't use verbose (ver-boss)\n",
        "\n",
        "# def create_model() is where to tinker re tuning"
      ],
      "execution_count": 0,
      "outputs": []
    },
    {
      "cell_type": "markdown",
      "metadata": {
        "colab_type": "text",
        "id": "EKcuY6OiaLfz"
      },
      "source": [
        "## Optimizer\n",
        "\n",
        "Remember that there's a different optimizers [optimizers](https://keras.io/optimizers/). At some point, take some time to read up on them a little bit. \"adam\" usually gives the best results. The thing to know about choosing an optimizer is that different optimizers have different hyperparameters like learning rate, momentum, etc. So based on the optimizer you choose you might also have to tune the learning rate and momentum of those optimizers after that. "
      ]
    },
    {
      "cell_type": "code",
      "metadata": {
        "id": "gZv8gMj6xJZC",
        "colab_type": "code",
        "colab": {}
      },
      "source": [
        "from tensorflow.keras.callbacks import EarlyStopping\n",
        "\n",
        "stop = EarlyStopping(monitor='acc', min_delta=0.01)"
      ],
      "execution_count": 0,
      "outputs": []
    },
    {
      "cell_type": "code",
      "metadata": {
        "id": "KZBMOk-OhFip",
        "colab_type": "code",
        "colab": {
          "base_uri": "https://localhost:8080/",
          "height": 555
        },
        "outputId": "e663db23-ef31-44a4-abaf-31793eb8acbb"
      },
      "source": [
        "# Function to create model, required for KerasClassifier\n",
        "def create_model(optimizer='adam'):\n",
        "    # create model\n",
        "    model = Sequential()\n",
        "    model.add(Dense(12, input_dim=8, activation='relu'))\n",
        "    model.add(Dense(1, activation='sigmoid'))\n",
        "    # Compile model\n",
        "    model.compile(loss='binary_crossentropy', optimizer=optimizer, metrics=['accuracy'])\n",
        "    return model\n",
        "\n",
        "# create model\n",
        "model = KerasClassifier(build_fn=create_model, verbose=0)\n",
        "\n",
        "# define the grid search parameters\n",
        "# batch_size = [10, 20, 40, 60, 80, 100]\n",
        "# param_grid = dict(batch_size=batch_size, epochs=epochs)\n",
        "\n",
        "# define the grid search parameters\n",
        "param_grid = {'batch_size': [10, 20, 40, 60, 80, 100],\n",
        "              'optimizer': ['adam', 'nadam', 'sgd', 'adadelta', 'adagrad']\n",
        "              }\n",
        "\n",
        "# Create Grid Search\n",
        "grid = GridSearchCV(estimator=model, param_grid=param_grid, n_jobs=1)\n",
        "grid_result = grid.fit(X, Y)\n",
        "\n",
        "# Report Results\n",
        "print(f\"Best: {grid_result.best_score_} using {grid_result.best_params_}\")\n",
        "means = grid_result.cv_results_['mean_test_score']\n",
        "stds = grid_result.cv_results_['std_test_score']\n",
        "params = grid_result.cv_results_['params']\n",
        "for mean, stdev, param in zip(means, stds, params):\n",
        "    print(f\"Means: {mean}, Stdev: {stdev} with: {param}\") "
      ],
      "execution_count": 12,
      "outputs": [
        {
          "output_type": "stream",
          "text": [
            "Best: 0.6667855024337769 using {'batch_size': 10, 'optimizer': 'sgd'}\n",
            "Means: 0.5167303264141083, Stdev: 0.0951343525869274 with: {'batch_size': 10, 'optimizer': 'adam'}\n",
            "Means: 0.5754944443702698, Stdev: 0.034768557515420136 with: {'batch_size': 10, 'optimizer': 'nadam'}\n",
            "Means: 0.6667855024337769, Stdev: 0.04835572468178051 with: {'batch_size': 10, 'optimizer': 'sgd'}\n",
            "Means: 0.5193532049655915, Stdev: 0.14377415023311013 with: {'batch_size': 10, 'optimizer': 'adadelta'}\n",
            "Means: 0.48578220009803774, Stdev: 0.09992082050593883 with: {'batch_size': 10, 'optimizer': 'adagrad'}\n",
            "Means: 0.6407690405845642, Stdev: 0.06759548705266236 with: {'batch_size': 20, 'optimizer': 'adam'}\n",
            "Means: 0.619989812374115, Stdev: 0.08007416309155298 with: {'batch_size': 20, 'optimizer': 'nadam'}\n",
            "Means: 0.5989135146141052, Stdev: 0.04372505322271802 with: {'batch_size': 20, 'optimizer': 'sgd'}\n",
            "Means: 0.5587386429309845, Stdev: 0.13294719154227544 with: {'batch_size': 20, 'optimizer': 'adadelta'}\n",
            "Means: 0.6316781282424927, Stdev: 0.0768600737184106 with: {'batch_size': 20, 'optimizer': 'adagrad'}\n",
            "Means: 0.5518207252025604, Stdev: 0.15005896860110318 with: {'batch_size': 40, 'optimizer': 'adam'}\n",
            "Means: 0.43196672201156616, Stdev: 0.13929320681551643 with: {'batch_size': 40, 'optimizer': 'nadam'}\n",
            "Means: 0.6276462078094482, Stdev: 0.06924769795240004 with: {'batch_size': 40, 'optimizer': 'sgd'}\n",
            "Means: 0.5602495551109314, Stdev: 0.14499974102722532 with: {'batch_size': 40, 'optimizer': 'adadelta'}\n",
            "Means: 0.5262965857982635, Stdev: 0.13559050811949705 with: {'batch_size': 40, 'optimizer': 'adagrad'}\n",
            "Means: 0.45428232550621034, Stdev: 0.13363540552894188 with: {'batch_size': 60, 'optimizer': 'adam'}\n",
            "Means: 0.4999151170253754, Stdev: 0.09770715859098104 with: {'batch_size': 60, 'optimizer': 'nadam'}\n",
            "Means: 0.6367286324501038, Stdev: 0.03740725327750586 with: {'batch_size': 60, 'optimizer': 'sgd'}\n",
            "Means: 0.480638325214386, Stdev: 0.14725115900987265 with: {'batch_size': 60, 'optimizer': 'adadelta'}\n",
            "Means: 0.5342755377292633, Stdev: 0.13921789209671734 with: {'batch_size': 60, 'optimizer': 'adagrad'}\n",
            "Means: 0.5235379040241241, Stdev: 0.10836970658793799 with: {'batch_size': 80, 'optimizer': 'adam'}\n",
            "Means: 0.49910874366760255, Stdev: 0.15065199070839955 with: {'batch_size': 80, 'optimizer': 'nadam'}\n",
            "Means: 0.5861132383346558, Stdev: 0.07081691085543936 with: {'batch_size': 80, 'optimizer': 'sgd'}\n",
            "Means: 0.49355742931365965, Stdev: 0.1327850767161834 with: {'batch_size': 80, 'optimizer': 'adadelta'}\n",
            "Means: 0.6420507669448853, Stdev: 0.06165050029562461 with: {'batch_size': 80, 'optimizer': 'adagrad'}\n",
            "Means: 0.3788133502006531, Stdev: 0.043038662801151206 with: {'batch_size': 100, 'optimizer': 'adam'}\n",
            "Means: 0.458161449432373, Stdev: 0.11729736723615883 with: {'batch_size': 100, 'optimizer': 'nadam'}\n",
            "Means: 0.5846617519855499, Stdev: 0.07435899544418968 with: {'batch_size': 100, 'optimizer': 'sgd'}\n",
            "Means: 0.44919786751270296, Stdev: 0.13650619282619156 with: {'batch_size': 100, 'optimizer': 'adadelta'}\n",
            "Means: 0.44127833247184756, Stdev: 0.1287718578993305 with: {'batch_size': 100, 'optimizer': 'adagrad'}\n"
          ],
          "name": "stdout"
        }
      ]
    },
    {
      "cell_type": "markdown",
      "metadata": {
        "colab_type": "text",
        "id": "DG3wq5iOaLig"
      },
      "source": [
        "## Learning Rate\n",
        "\n",
        "Remember that the Learning Rate is a hyperparameter that is specific to your gradient-descent based optimizer selection. A learning rate that is too high will cause divergent behavior, but a Learning Rate that is too low will fail to converge, again, you're looking for the sweet spot. I would start out tuning learning rates by orders of magnitude: [.001, .01, .1, .2, .3, .5] etc. I wouldn't go above .5, but you can try it and see what the behavior is like. \n",
        "\n",
        "Once you have narrowed it down, make the window even smaller and try it again. If after running the above specification your model reports that .1 is the best optimizer, then you should probably try things like [.05, .08, .1, .12, .15] to try and narrow it down. \n",
        "\n",
        "It can also be good to tune the number of epochs in combination with the learning rate since the number of iterations that you allow the learning rate to reach the minimum can determine if you have let it run long enough to converge to the minimum. "
      ]
    },
    {
      "cell_type": "markdown",
      "metadata": {
        "colab_type": "text",
        "id": "gNTBUWd1aLlA"
      },
      "source": [
        "## Momentum\n",
        "\n",
        "Momentum is a hyperparameter that is more commonly associated with Stochastic Gradient Descent. SGD is a common optimizer because it's what people understand and know, but I doubt it will get you the best results, you can try hyperparameter tuning its attributes and see if you can beat the performance from adam. Momentum is a property that decides the willingness of an optimizer to overshoot the minimum. Imagine a ball rolling down one side of a bowl and then up the opposite side a little bit before settling back to the bottom. The purpose of momentum is to try and escale local minima."
      ]
    },
    {
      "cell_type": "markdown",
      "metadata": {
        "colab_type": "text",
        "id": "xnEG-bCJaLnZ"
      },
      "source": [
        "## Activation Functions\n",
        "\n",
        "We've talked about this a little bit, typically you'l want to use ReLU for hidden layers and either Sigmoid, or Softmax for output layers of binary and multi-class classification implementations respectively, but try other activation functions and see if you can get any better results with sigmoid or tanh or something. There are a lot of activation functions that we haven't really talked about. Maybe you'll get good results with them. Maybe you won't. :) <https://keras.io/activations/>"
      ]
    },
    {
      "cell_type": "markdown",
      "metadata": {
        "colab_type": "text",
        "id": "oul9sPq-dU-h"
      },
      "source": [
        "## Network Weight Initialization\n",
        "\n",
        "You saw how big of an effect the way that we initialize our network's weights can have on our results. There are **a lot** of what are called initialization modes. I don't understand all of them, but they can have a big affect on your model's initial accuracy. Your model will get further with less epochs if you initialize it with weights that are well suited to the problem you're trying to solve.\n",
        "\n",
        "`init_mode = ['uniform', 'lecun_uniform', 'normal', 'zero', 'glorot_normal', 'glorot_uniform', 'he_normal', 'he_uniform']`"
      ]
    },
    {
      "cell_type": "markdown",
      "metadata": {
        "colab_type": "text",
        "id": "bqtEuxeQaLqE"
      },
      "source": [
        "## Dropout Regularization and the Weight Constraint\n",
        "\n",
        "the Dropout Regularization value is a percentage of neurons that you want to be randomly deactivated during training. The weight constraint is a second regularization parameter that works in tandem with dropout regularization. You should tune these two values at the same time. \n",
        "\n",
        "Using dropout on visible vs hidden layers might have a different effect. Using dropout on hidden layers might not have any effect while using dropout on hidden layers might have a substantial effect. You don't necessarily need to turn use dropout unless you see that your model has overfitting and generalizability problems."
      ]
    },
    {
      "cell_type": "markdown",
      "metadata": {
        "colab_type": "text",
        "id": "P2c5Cv6oaLtO"
      },
      "source": [
        "## Neurons in Hidden Layer \n",
        "\n",
        "Remember that when we only had a single perceptron our model was only able to fit to linearly separable data, but as we have added layers and nodes to those layers our network has become a powerhouse of fitting nonlinearity in data. The larger the network and the more nodes generally the stronger the network's capacity to fit nonlinear patterns in data. The more nodes and layers the longer it will take to train a network, and higher the probability of overfitting. The larger your network gets the more you'll need dropout regularization or other regularization techniques to keep it in check. \n",
        "\n",
        "Typically depth (more layers) is more important than width (more nodes) for neural networks. This is part of why Deep Learning is so highly touted. Certain deep learning architectures have truly been huge breakthroughs for certain machine learning tasks. \n",
        "\n",
        "You might borrow ideas from other network architectures. For example if I was doing image recognition and I wasn't taking cues from state of the art architectures like resnet, alexnet, googlenet, etc. Then I'm probably going to have to do a lot more experimentation on my own before I find something that works.\n",
        "\n",
        "There are some heuristics, but I am highly skeptical of them. I think you're better off experimenting on your own and forming your own intuition for these kinds of problems. \n",
        "\n",
        "- https://machinelearningmastery.com/how-to-configure-the-number-of-layers-and-nodes-in-a-neural-network/"
      ]
    },
    {
      "cell_type": "markdown",
      "metadata": {
        "id": "cae4F5uXhFjB",
        "colab_type": "text"
      },
      "source": [
        "## Challenge\n",
        "You will be expected to tune several hyperparameters in today's module project. "
      ]
    },
    {
      "cell_type": "markdown",
      "metadata": {
        "id": "8dyntW36hFjE",
        "colab_type": "text"
      },
      "source": [
        "# Experiment Tracking Framework (Learn)\n",
        "<a id=\"p2\"></a>"
      ]
    },
    {
      "cell_type": "markdown",
      "metadata": {
        "id": "cR7K5pPkhFjJ",
        "colab_type": "text"
      },
      "source": [
        "## Overview\n",
        "\n",
        "You will notice quickly that managing the results of all the experiments you are running becomes challenging. Which set of parameters did the best? Are my results today different than my results yesterday? Although we use Ipython Notebooks to work, the format is not well suited to logging experimental results. Enter experiment tracking frameworks like [Comet.ml](https://comet.ml) and [Weights and Biases](https://wandb.ai/).\n",
        "\n",
        "Those tools will help you track your experiments, store the results, and the code associated with those experiments. Experimental results can also be readily visualized to see changes in performance across any metric you care about. Data is sent to the tool as each epoch is completed, so you can also see if your model is converging. Let's check out Weights & Biases today. "
      ]
    },
    {
      "cell_type": "markdown",
      "metadata": {
        "id": "vEmMvwfLhFjK",
        "colab_type": "text"
      },
      "source": [
        "## Follow Along\n",
        "\n",
        "Make sure you login into `wandb` in the terminal before running the next cell. "
      ]
    },
    {
      "cell_type": "code",
      "metadata": {
        "id": "zpqciVS24ej4",
        "colab_type": "code",
        "colab": {}
      },
      "source": [
        "! pip install --upgrade wandb"
      ],
      "execution_count": 0,
      "outputs": []
    },
    {
      "cell_type": "code",
      "metadata": {
        "id": "ahfAlD1U5IMS",
        "colab_type": "code",
        "colab": {
          "base_uri": "https://localhost:8080/",
          "height": 52
        },
        "outputId": "6c780c19-59e9-46f5-d7ca-7d6d2562c45d"
      },
      "source": [
        "! wandb login 9da3150b607db1ce85aaaa058fed4d1d68722e77"
      ],
      "execution_count": 16,
      "outputs": [
        {
          "output_type": "stream",
          "text": [
            "\u001b[34m\u001b[1mwandb\u001b[0m: Appending key for api.wandb.ai to your netrc file: /root/.netrc\n",
            "\u001b[32mSuccessfully logged in to Weights & Biases!\u001b[0m\n"
          ],
          "name": "stdout"
        }
      ]
    },
    {
      "cell_type": "code",
      "metadata": {
        "id": "s7FkcvobhFjM",
        "colab_type": "code",
        "colab": {}
      },
      "source": [
        "import wandb\n",
        "from wandb.keras import WandbCallback"
      ],
      "execution_count": 0,
      "outputs": []
    },
    {
      "cell_type": "code",
      "metadata": {
        "colab_type": "code",
        "outputId": "17ac36dc-10c1-40ce-c7e0-16ec2d1fb9c2",
        "id": "txTxabLUhFjd",
        "colab": {
          "base_uri": "https://localhost:8080/",
          "height": 1000
        }
      },
      "source": [
        "from tensorflow.keras.layers import Dense, Layer, LeakyReLU\n",
        "\n",
        "#Initializes and Experiment\n",
        "wandb.init(project=wandb_project, entity=wandb_group)\n",
        "\n",
        "# Important Hyperparameters\n",
        "X =  x_train\n",
        "y =  y_train\n",
        "\n",
        "inputs = X.shape[1]\n",
        "wandb.config.epochs = 50\n",
        "wandb.config.batch_size = 10\n",
        "\n",
        "# Create Model\n",
        "model = Sequential()\n",
        "model.add(Dense(64, activation='relu', input_shape=(inputs,)))\n",
        "model.add(LeakyReLU(alpha=0.05))\n",
        "model.add(Dense(64, activation='relu'))\n",
        "model.add(Dense(64, activation='relu'))\n",
        "model.add(Dense(64, activation='relu'))\n",
        "model.add(Dense(1))\n",
        "# Compile Model\n",
        "model.compile(optimizer='nadam', loss='mse', metrics=['mse', 'mae'])\n",
        "\n",
        "# Fit Model\n",
        "model.fit(X, y, \n",
        "          validation_split=0.33, \n",
        "          epochs=wandb.config.epochs, \n",
        "          batch_size=wandb.config.batch_size, \n",
        "          callbacks=[WandbCallback()]\n",
        "         )"
      ],
      "execution_count": 23,
      "outputs": [
        {
          "output_type": "display_data",
          "data": {
            "text/html": [
              "\n",
              "                Logging results to <a href=\"https://wandb.com\" target=\"_blank\">Weights & Biases</a> <a href=\"https://docs.wandb.com/integrations/jupyter.html\" target=\"_blank\">(Documentation)</a>.<br/>\n",
              "                Project page: <a href=\"https://app.wandb.ai/ds8/ds11_inclass\" target=\"_blank\">https://app.wandb.ai/ds8/ds11_inclass</a><br/>\n",
              "                Run page: <a href=\"https://app.wandb.ai/ds8/ds11_inclass/runs/2d237xcr\" target=\"_blank\">https://app.wandb.ai/ds8/ds11_inclass/runs/2d237xcr</a><br/>\n",
              "            "
            ],
            "text/plain": [
              "<IPython.core.display.HTML object>"
            ]
          },
          "metadata": {
            "tags": []
          }
        },
        {
          "output_type": "stream",
          "text": [
            "Train on 270 samples, validate on 134 samples\n",
            "Epoch 1/50\n",
            "270/270 [==============================] - 1s 4ms/sample - loss: 488.1389 - mse: 488.1389 - mae: 20.0768 - val_loss: 354.9327 - val_mse: 354.9326 - val_mae: 16.2769\n",
            "Epoch 2/50\n",
            "270/270 [==============================] - 0s 457us/sample - loss: 101.0417 - mse: 101.0417 - mae: 7.5475 - val_loss: 60.5531 - val_mse: 60.5531 - val_mae: 5.5233\n",
            "Epoch 3/50\n",
            "270/270 [==============================] - 0s 495us/sample - loss: 33.6169 - mse: 33.6169 - mae: 4.1793 - val_loss: 44.5119 - val_mse: 44.5119 - val_mae: 4.5643\n",
            "Epoch 4/50\n",
            "270/270 [==============================] - 0s 480us/sample - loss: 24.6780 - mse: 24.6780 - mae: 3.5934 - val_loss: 35.7172 - val_mse: 35.7172 - val_mae: 4.0471\n",
            "Epoch 5/50\n",
            "270/270 [==============================] - 1s 2ms/sample - loss: 19.9647 - mse: 19.9647 - mae: 3.2328 - val_loss: 29.6335 - val_mse: 29.6335 - val_mae: 3.6567\n",
            "Epoch 6/50\n",
            "270/270 [==============================] - 0s 587us/sample - loss: 15.7190 - mse: 15.7190 - mae: 2.9407 - val_loss: 25.2030 - val_mse: 25.2030 - val_mae: 3.4236\n",
            "Epoch 7/50\n",
            "270/270 [==============================] - 0s 409us/sample - loss: 13.5941 - mse: 13.5941 - mae: 2.7305 - val_loss: 23.8340 - val_mse: 23.8340 - val_mae: 3.3173\n",
            "Epoch 8/50\n",
            "270/270 [==============================] - 0s 490us/sample - loss: 12.2459 - mse: 12.2459 - mae: 2.6596 - val_loss: 21.1182 - val_mse: 21.1182 - val_mae: 3.0840\n",
            "Epoch 9/50\n",
            "270/270 [==============================] - 0s 477us/sample - loss: 11.1930 - mse: 11.1930 - mae: 2.4864 - val_loss: 19.2795 - val_mse: 19.2795 - val_mae: 2.9699\n",
            "Epoch 10/50\n",
            "270/270 [==============================] - 0s 463us/sample - loss: 9.8324 - mse: 9.8324 - mae: 2.3689 - val_loss: 17.8518 - val_mse: 17.8518 - val_mae: 2.8506\n",
            "Epoch 11/50\n",
            "270/270 [==============================] - 0s 463us/sample - loss: 9.2692 - mse: 9.2692 - mae: 2.3404 - val_loss: 17.4984 - val_mse: 17.4984 - val_mae: 2.7975\n",
            "Epoch 12/50\n",
            "270/270 [==============================] - 0s 463us/sample - loss: 8.1604 - mse: 8.1604 - mae: 2.1304 - val_loss: 16.5848 - val_mse: 16.5848 - val_mae: 2.8012\n",
            "Epoch 13/50\n",
            "270/270 [==============================] - 0s 518us/sample - loss: 8.2268 - mse: 8.2268 - mae: 2.1743 - val_loss: 16.2821 - val_mse: 16.2821 - val_mae: 2.7162\n",
            "Epoch 14/50\n",
            "270/270 [==============================] - 0s 314us/sample - loss: 7.3176 - mse: 7.3176 - mae: 2.0511 - val_loss: 16.5792 - val_mse: 16.5792 - val_mae: 2.7617\n",
            "Epoch 15/50\n",
            "270/270 [==============================] - 0s 442us/sample - loss: 7.1321 - mse: 7.1321 - mae: 2.0535 - val_loss: 15.3897 - val_mse: 15.3897 - val_mae: 2.6492\n",
            "Epoch 16/50\n",
            "270/270 [==============================] - 0s 500us/sample - loss: 6.6058 - mse: 6.6058 - mae: 1.9445 - val_loss: 14.5921 - val_mse: 14.5921 - val_mae: 2.5670\n",
            "Epoch 17/50\n",
            "270/270 [==============================] - 0s 320us/sample - loss: 6.1298 - mse: 6.1298 - mae: 1.8874 - val_loss: 15.5613 - val_mse: 15.5613 - val_mae: 2.6873\n",
            "Epoch 18/50\n",
            "270/270 [==============================] - 0s 449us/sample - loss: 5.8392 - mse: 5.8392 - mae: 1.8416 - val_loss: 14.2673 - val_mse: 14.2673 - val_mae: 2.5326\n",
            "Epoch 19/50\n",
            "270/270 [==============================] - 0s 472us/sample - loss: 6.0038 - mse: 6.0038 - mae: 1.8671 - val_loss: 14.6981 - val_mse: 14.6981 - val_mae: 2.5692\n",
            "Epoch 20/50\n",
            "270/270 [==============================] - 0s 314us/sample - loss: 5.5142 - mse: 5.5142 - mae: 1.7929 - val_loss: 16.0236 - val_mse: 16.0236 - val_mae: 2.6875\n",
            "Epoch 21/50\n",
            "270/270 [==============================] - 0s 342us/sample - loss: 5.3272 - mse: 5.3272 - mae: 1.7741 - val_loss: 14.7830 - val_mse: 14.7830 - val_mae: 2.5690\n",
            "Epoch 22/50\n",
            "270/270 [==============================] - 0s 340us/sample - loss: 4.8540 - mse: 4.8540 - mae: 1.7030 - val_loss: 14.8144 - val_mse: 14.8144 - val_mae: 2.6049\n",
            "Epoch 23/50\n",
            "270/270 [==============================] - 0s 482us/sample - loss: 5.1704 - mse: 5.1704 - mae: 1.7766 - val_loss: 13.8581 - val_mse: 13.8581 - val_mae: 2.4812\n",
            "Epoch 24/50\n",
            "270/270 [==============================] - 0s 338us/sample - loss: 4.7649 - mse: 4.7649 - mae: 1.6185 - val_loss: 14.0421 - val_mse: 14.0421 - val_mae: 2.5136\n",
            "Epoch 25/50\n",
            "270/270 [==============================] - 0s 329us/sample - loss: 4.6933 - mse: 4.6933 - mae: 1.6162 - val_loss: 14.0855 - val_mse: 14.0855 - val_mae: 2.5056\n",
            "Epoch 26/50\n",
            "270/270 [==============================] - 0s 491us/sample - loss: 4.4398 - mse: 4.4398 - mae: 1.6004 - val_loss: 15.2260 - val_mse: 15.2260 - val_mae: 2.6116\n",
            "Epoch 27/50\n",
            "270/270 [==============================] - 0s 381us/sample - loss: 4.3690 - mse: 4.3690 - mae: 1.6134 - val_loss: 14.0109 - val_mse: 14.0109 - val_mae: 2.5103\n",
            "Epoch 28/50\n",
            "270/270 [==============================] - 0s 332us/sample - loss: 4.4190 - mse: 4.4190 - mae: 1.5531 - val_loss: 14.3852 - val_mse: 14.3852 - val_mae: 2.5894\n",
            "Epoch 29/50\n",
            "270/270 [==============================] - 0s 324us/sample - loss: 3.9703 - mse: 3.9703 - mae: 1.5289 - val_loss: 14.0896 - val_mse: 14.0896 - val_mae: 2.4868\n",
            "Epoch 30/50\n",
            "270/270 [==============================] - 0s 487us/sample - loss: 3.5627 - mse: 3.5627 - mae: 1.4007 - val_loss: 13.7918 - val_mse: 13.7918 - val_mae: 2.4794\n",
            "Epoch 31/50\n",
            "270/270 [==============================] - 0s 367us/sample - loss: 3.9119 - mse: 3.9119 - mae: 1.5019 - val_loss: 14.0618 - val_mse: 14.0618 - val_mae: 2.5158\n",
            "Epoch 32/50\n",
            "270/270 [==============================] - 0s 314us/sample - loss: 3.9222 - mse: 3.9222 - mae: 1.5047 - val_loss: 14.1017 - val_mse: 14.1017 - val_mae: 2.4779\n",
            "Epoch 33/50\n",
            "270/270 [==============================] - 0s 423us/sample - loss: 3.5558 - mse: 3.5558 - mae: 1.4247 - val_loss: 13.4844 - val_mse: 13.4844 - val_mae: 2.4347\n",
            "Epoch 34/50\n",
            "270/270 [==============================] - 0s 333us/sample - loss: 3.3867 - mse: 3.3867 - mae: 1.4233 - val_loss: 16.0512 - val_mse: 16.0512 - val_mae: 2.7352\n",
            "Epoch 35/50\n",
            "270/270 [==============================] - 0s 314us/sample - loss: 3.5145 - mse: 3.5145 - mae: 1.4018 - val_loss: 14.2225 - val_mse: 14.2225 - val_mae: 2.4742\n",
            "Epoch 36/50\n",
            "270/270 [==============================] - 0s 317us/sample - loss: 3.1420 - mse: 3.1420 - mae: 1.3292 - val_loss: 14.3979 - val_mse: 14.3979 - val_mae: 2.5068\n",
            "Epoch 37/50\n",
            "270/270 [==============================] - 0s 320us/sample - loss: 2.9278 - mse: 2.9278 - mae: 1.2854 - val_loss: 15.6820 - val_mse: 15.6820 - val_mae: 2.7645\n",
            "Epoch 38/50\n",
            "270/270 [==============================] - 0s 323us/sample - loss: 3.4749 - mse: 3.4749 - mae: 1.4357 - val_loss: 13.6924 - val_mse: 13.6924 - val_mae: 2.4266\n",
            "Epoch 39/50\n",
            "270/270 [==============================] - 0s 326us/sample - loss: 3.0954 - mse: 3.0954 - mae: 1.3034 - val_loss: 15.6589 - val_mse: 15.6589 - val_mae: 2.6642\n",
            "Epoch 40/50\n",
            "270/270 [==============================] - 0s 331us/sample - loss: 2.9979 - mse: 2.9979 - mae: 1.2757 - val_loss: 13.7282 - val_mse: 13.7282 - val_mae: 2.4037\n",
            "Epoch 41/50\n",
            "270/270 [==============================] - 0s 319us/sample - loss: 3.2755 - mse: 3.2755 - mae: 1.3361 - val_loss: 13.8495 - val_mse: 13.8495 - val_mae: 2.4475\n",
            "Epoch 42/50\n",
            "270/270 [==============================] - 0s 372us/sample - loss: 2.8094 - mse: 2.8094 - mae: 1.2743 - val_loss: 13.6616 - val_mse: 13.6616 - val_mae: 2.4111\n",
            "Epoch 43/50\n",
            "270/270 [==============================] - 0s 370us/sample - loss: 2.6017 - mse: 2.6017 - mae: 1.2214 - val_loss: 15.3032 - val_mse: 15.3032 - val_mae: 2.6254\n",
            "Epoch 44/50\n",
            "270/270 [==============================] - 0s 317us/sample - loss: 2.5938 - mse: 2.5938 - mae: 1.1943 - val_loss: 15.6965 - val_mse: 15.6965 - val_mae: 2.6392\n",
            "Epoch 45/50\n",
            "270/270 [==============================] - 0s 362us/sample - loss: 2.6444 - mse: 2.6444 - mae: 1.2406 - val_loss: 14.5346 - val_mse: 14.5346 - val_mae: 2.5202\n",
            "Epoch 46/50\n",
            "270/270 [==============================] - 0s 342us/sample - loss: 2.6517 - mse: 2.6517 - mae: 1.2205 - val_loss: 13.7415 - val_mse: 13.7415 - val_mae: 2.4382\n",
            "Epoch 47/50\n",
            "270/270 [==============================] - 0s 368us/sample - loss: 2.4545 - mse: 2.4545 - mae: 1.1585 - val_loss: 14.6539 - val_mse: 14.6539 - val_mae: 2.5287\n",
            "Epoch 48/50\n",
            "270/270 [==============================] - 0s 372us/sample - loss: 2.4711 - mse: 2.4711 - mae: 1.1894 - val_loss: 14.2899 - val_mse: 14.2899 - val_mae: 2.4766\n",
            "Epoch 49/50\n",
            "270/270 [==============================] - 0s 358us/sample - loss: 2.4225 - mse: 2.4225 - mae: 1.1645 - val_loss: 14.2787 - val_mse: 14.2787 - val_mae: 2.4556\n",
            "Epoch 50/50\n",
            "270/270 [==============================] - 0s 430us/sample - loss: 2.3455 - mse: 2.3455 - mae: 1.1257 - val_loss: 14.7172 - val_mse: 14.7172 - val_mae: 2.5420\n"
          ],
          "name": "stdout"
        },
        {
          "output_type": "execute_result",
          "data": {
            "text/plain": [
              "<tensorflow.python.keras.callbacks.History at 0x7f772a628e10>"
            ]
          },
          "metadata": {
            "tags": []
          },
          "execution_count": 23
        }
      ]
    },
    {
      "cell_type": "markdown",
      "metadata": {
        "id": "Jlt5qC49hFjk",
        "colab_type": "text"
      },
      "source": [
        "## Challenge\n",
        "\n",
        "You will be expected to use Weights & Biases to try to tune your model during your module assignment today. "
      ]
    },
    {
      "cell_type": "markdown",
      "metadata": {
        "id": "mkVdb5Q9hFjn",
        "colab_type": "text"
      },
      "source": [
        "## Challenge\n",
        "\n",
        "Try to apply RandomSearchCV to your module project today. "
      ]
    },
    {
      "cell_type": "markdown",
      "metadata": {
        "id": "018u-uI7hFjq",
        "colab_type": "text"
      },
      "source": [
        "# Review\n",
        "* <a href=\"#p1\">Part 1</a>: Describe the major hyperparemeters to tune\n",
        "    - Activation Functions\n",
        "    - Optimizer\n",
        "    - Number of Layers\n",
        "    - Number of Neurons\n",
        "    - Batch Size\n",
        "    - Dropout Regulaization\n",
        "    - Learning Rate\n",
        "    - Number of Epochs\n",
        "    - and many more\n",
        "* <a href=\"#p2\">Part 2</a>: Implement an experiment tracking framework\n",
        "    - Weights & Biases\n",
        "    - Comet.ml\n",
        "    - By Hand / GridSearch\n",
        "* <a href=\"#p3\">Optional</a>: Discuss emerging hyperparameter tuning strategies\n",
        "    - Bayesian Optimization\n",
        "    - Hyperopt\n",
        "    - Genetic Evolution"
      ]
    },
    {
      "cell_type": "markdown",
      "metadata": {
        "id": "dm_jPgqThFjt",
        "colab_type": "text"
      },
      "source": [
        "# Sources"
      ]
    },
    {
      "cell_type": "markdown",
      "metadata": {
        "id": "96tYKZONhFjv",
        "colab_type": "text"
      },
      "source": [
        "## Additional Reading\n",
        "- https://machinelearningmastery.com/grid-search-hyperparameters-deep-learning-models-python-keras/\n",
        "- https://blog.floydhub.com/guide-to-hyperparameters-search-for-deep-learning-models/\n",
        "- https://machinelearningmastery.com/dropout-regularization-deep-learning-models-keras/\n",
        "- https://machinelearningmastery.com/introduction-to-weight-constraints-to-reduce-generalization-error-in-deep-learning/\n",
        "- https://machinelearningmastery.com/how-to-configure-the-number-of-layers-and-nodes-in-a-neural-network/"
      ]
    }
  ]
}