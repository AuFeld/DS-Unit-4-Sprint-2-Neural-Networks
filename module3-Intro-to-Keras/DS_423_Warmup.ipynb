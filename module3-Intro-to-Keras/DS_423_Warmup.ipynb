{
  "nbformat": 4,
  "nbformat_minor": 0,
  "metadata": {
    "colab": {
      "name": "DS_423_Warmup.ipynb",
      "provenance": [],
      "authorship_tag": "ABX9TyMd3iFvnxv2fNNnyilRd6ew",
      "include_colab_link": true
    },
    "kernelspec": {
      "name": "python3",
      "display_name": "Python 3"
    }
  },
  "cells": [
    {
      "cell_type": "markdown",
      "metadata": {
        "id": "view-in-github",
        "colab_type": "text"
      },
      "source": [
        "<a href=\"https://colab.research.google.com/github/AuFeld/DS-Unit-4-Sprint-2-Neural-Networks/blob/master/module3-Intro-to-Keras/DS_423_Warmup.ipynb\" target=\"_parent\"><img src=\"https://colab.research.google.com/assets/colab-badge.svg\" alt=\"Open In Colab\"/></a>"
      ]
    },
    {
      "cell_type": "code",
      "metadata": {
        "id": "KKxTwkmkMDQB",
        "colab_type": "code",
        "colab": {}
      },
      "source": [
        "# how does lemmatization differ from stemming?\n",
        "\n",
        "\"\"\"\n",
        "stemming is the 'visual' way of reducing (or chopping) a word down to its \n",
        "stem. typically rule-based. \n",
        "eg: from stemming ~> stem. \n",
        "algos = porter stemmer (most common), snowball stemmer, and lancaster stemmer\n",
        "\n",
        "lemmatization is the more calculated process. it involves resolving words to \n",
        "their dictionary form. a lemma of a word is its dictionary or canonical form\n",
        "eg: is, are ~> be\n",
        "\n",
        "\"\"\"\n",
        "# benchmark and compare varioud vectorization methods in document classification tasks\n",
        "\n",
        "# what is a perceptron\n",
        "\n",
        "# describe the main steps of how a neural network works\n",
        "\n",
        "# what is a sigmoid activation function?\n",
        "\n",
        "# how would you explain to a layman what a nn does?\n",
        "\n"
      ],
      "execution_count": 0,
      "outputs": []
    }
  ]
}